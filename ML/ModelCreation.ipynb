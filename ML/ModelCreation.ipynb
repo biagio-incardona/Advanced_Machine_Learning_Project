{
 "cells": [
  {
   "cell_type": "code",
   "execution_count": 46,
   "outputs": [],
   "source": [
    "from model_selection import load_dataset, df_train_test_split, model_evaluate\n",
    "from settings import BASE_DIR\n",
    "import Preprocess as ps\n",
    "from nltk.stem import SnowballStemmer\n",
    "import TFIDF_Models as cnb\n",
    "\n",
    "\n",
    "# explicit negations\n",
    "negations = {\"isn't\":\"is not\", \"aren't\":\"are not\", \"wasn't\":\"was not\", \"weren't\":\"were not\",\n",
    "            \"haven't\":\"have not\",\"hasn't\":\"has not\",\"hadn't\":\"had not\",\"won't\":\"will not\",\n",
    "            \"wouldn't\":\"would not\", \"don't\":\"do not\", \"doesn't\":\"does not\",\"didn't\":\"did not\",\n",
    "            \"can't\":\"can not\",\"couldn't\":\"could not\",\"shouldn't\":\"should not\",\"mightn't\":\"might not\",\n",
    "            \"mustn't\":\"must not\"}\n",
    "\n",
    "# convert twitter emojis in twitch style emojis\n",
    "emojis = {':)': 'smile', ':-)': 'smile', ';d': 'wink', ':-E': 'vampire', ':(': 'sad',\n",
    "      ':-(': 'sad', ':-<': 'sad', ':P': 'raspberry', ':O': 'surprised',\n",
    "      ':-@': 'shocked', ':@': 'shocked',':-$': 'confused',\n",
    "      ':#': 'mute', ':X': 'mute', ':^)': 'smile', ':-&': 'confused', '$_$': 'greedy',\n",
    "      '@@': 'eyeroll', ':-!': 'confused', ':-D': 'smile', ':-0': 'yell', 'O.o': 'confused',\n",
    "      '<(-_-)>': 'robot', 'd[-_-]b': 'dj', \":'-)\": 'sadsmile', ';)': 'wink',\n",
    "      ';-)': 'wink', 'O:-)': 'angel','O*-)': 'angel','(:-D': 'gossip', '=^.^=': 'cat'}\n",
    "\n",
    "regex_subs = {\n",
    "                r\"https?://[^s]+\" : \"URL\", # replace any url with URL\n",
    "                \"www.[^ ]+\" : \"URL\", # replace any url with URL\n",
    "                r\"@[^\\s]+\" : \"USR\", # replace any user tag with USR (the tag system is the same also in twitch)\n",
    "                r\"(.)\\1\\1+\" : r\"\\1\\1\", # replace 3 consecutive chars with 2\n",
    "                r\"[\\s]+\" : \" \", # remove consec spaces\n",
    "                \"#[a-z0-9]*\" : \"\" #remove hashtags, they are not used in twitch chats\n",
    "             }\n",
    "\n",
    "sbStem = SnowballStemmer(\"english\", True)"
   ],
   "metadata": {
    "collapsed": false,
    "pycharm": {
     "name": "#%%\n"
    }
   }
  },
  {
   "cell_type": "code",
   "execution_count": 30,
   "outputs": [
    {
     "name": "stdout",
     "output_type": "stream",
     "text": [
      "loading dataset...\n",
      "...dataset loaded\n"
     ]
    }
   ],
   "source": [
    "path = \"{BaseDir}/Advanced_Machine_Learning_Project/data/dataset.csv\".format(BaseDir=BASE_DIR)\n",
    "columns = [\"sentiment\", \"ids\", \"date\", \"flag\", \"user\", \"text\"]\n",
    "final_columns = [\"text\", \"sentiment\"]\n",
    "df = load_dataset(path, columns, final_columns)"
   ],
   "metadata": {
    "collapsed": false,
    "pycharm": {
     "name": "#%%\n"
    }
   }
  },
  {
   "cell_type": "code",
   "execution_count": 31,
   "outputs": [
    {
     "name": "stdout",
     "output_type": "stream",
     "text": [
      "starting preprocessing...\n",
      "...preprocessing completed\n",
      "starting splitting dataset...\n",
      "...dataset splitted\n"
     ]
    }
   ],
   "source": [
    "preprocess = ps.Preprocess(negations, emojis, regex_subs, sbStem)\n",
    "df = preprocess.df_pre_process(df, \"text\", \"sentiment\")\n",
    "X_train, X_test, Y_train, Y_test = df_train_test_split(df, \"text\", \"sentiment\",test_size=0.05)"
   ],
   "metadata": {
    "collapsed": false,
    "pycharm": {
     "name": "#%%\n"
    }
   }
  },
  {
   "cell_type": "code",
   "execution_count": 43,
   "outputs": [
    {
     "name": "stdout",
     "output_type": "stream",
     "text": [
      "starting vectorizing words...\n",
      "...words vectorized\n"
     ]
    },
    {
     "data": {
      "text/plain": "TFIDFLogisticRegression()"
     },
     "execution_count": 43,
     "metadata": {},
     "output_type": "execute_result"
    }
   ],
   "source": [
    "model = cnb.TFIDFLogisticRegression()\n",
    "model.fit(X_train, Y_train)"
   ],
   "metadata": {
    "collapsed": false,
    "pycharm": {
     "name": "#%%\n"
    }
   }
  },
  {
   "cell_type": "markdown",
   "source": [],
   "metadata": {
    "collapsed": false,
    "pycharm": {
     "name": "#%% md\n"
    }
   }
  },
  {
   "cell_type": "code",
   "execution_count": 47,
   "outputs": [
    {
     "name": "stdout",
     "output_type": "stream",
     "text": [
      "starting vectorizing words...\n",
      "...words vectorized\n",
      "              precision    recall  f1-score   support\n",
      "\n",
      "           0       0.67      0.69      0.68     39990\n",
      "           1       0.68      0.66      0.67     40010\n",
      "\n",
      "    accuracy                           0.68     80000\n",
      "   macro avg       0.68      0.68      0.67     80000\n",
      "weighted avg       0.68      0.68      0.67     80000\n",
      "\n"
     ]
    },
    {
     "data": {
      "text/plain": "<Figure size 432x288 with 2 Axes>",
      "image/png": "[encoded data removed]"
     },
     "metadata": {
      "needs_background": "light"
     },
     "output_type": "display_data"
    }
   ],
   "source": [
    "model_evaluate(model, X_test, Y_test)"
   ],
   "metadata": {
    "collapsed": false,
    "pycharm": {
     "name": "#%%\n"
    }
   }
  }
 ],
 "metadata": {
  "kernelspec": {
   "display_name": "Python 3",
   "language": "python",
   "name": "python3"
  },
  "language_info": {
   "codemirror_mode": {
    "name": "ipython",
    "version": 2
   },
   "file_extension": ".py",
   "mimetype": "text/x-python",
   "name": "python",
   "nbconvert_exporter": "python",
   "pygments_lexer": "ipython2",
   "version": "2.7.6"
  }
 },
 "nbformat": 4,
 "nbformat_minor": 0
}