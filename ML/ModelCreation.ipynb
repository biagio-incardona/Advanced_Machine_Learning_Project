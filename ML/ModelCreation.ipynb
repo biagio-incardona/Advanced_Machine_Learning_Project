{
 "cells": [
  {
   "cell_type": "code",
   "execution_count": 1,
   "metadata": {
    "pycharm": {
     "name": "#%%\n"
    }
   },
   "outputs": [],
   "source": [
    "import uuid\n",
    "import joblib\n",
    "import json\n",
    "from model_selection import load_dataset, df_train_test_split, model_evaluate, resize\n",
    "from settings import BASE_DIR\n",
    "import Preprocess as ps\n",
    "from nltk.stem import SnowballStemmer\n",
    "import TFIDF_Models as cnb\n",
    "from sklearn.model_selection import RandomizedSearchCV\n",
    "import scipy.stats.distributions as dists\n",
    "import time\n",
    "\n",
    "# explicit negations\n",
    "negations = {\"isn't\":\"is not\", \"aren't\":\"are not\", \"wasn't\":\"was not\", \"weren't\":\"were not\",\n",
    "            \"haven't\":\"have not\",\"hasn't\":\"has not\",\"hadn't\":\"had not\",\"won't\":\"will not\",\n",
    "            \"wouldn't\":\"would not\", \"don't\":\"do not\", \"doesn't\":\"does not\",\"didn't\":\"did not\",\n",
    "            \"can't\":\"can not\",\"couldn't\":\"could not\",\"shouldn't\":\"should not\",\"mightn't\":\"might not\",\n",
    "            \"mustn't\":\"must not\"}\n",
    "# convert twitter emojis in twitch style emojis\n",
    "emojis = {':)': 'smile', ':-)': 'smile', ';d': 'wink', ':-E': 'vampire', ':(': 'sad',\n",
    "      ':-(': 'sad', ':-<': 'sad', ':P': 'raspberry', ':O': 'surprised',\n",
    "      ':-@': 'shocked', ':@': 'shocked',':-$': 'confused',\n",
    "      ':#': 'mute', ':X': 'mute', ':^)': 'smile', ':-&': 'confused', '$_$': 'greedy',\n",
    "      '@@': 'eyeroll', ':-!': 'confused', ':-D': 'smile', ':-0': 'yell', 'O.o': 'confused',\n",
    "      '<(-_-)>': 'robot', 'd[-_-]b': 'dj', \":'-)\": 'sadsmile', ';)': 'wink',\n",
    "      ';-)': 'wink', 'O:-)': 'angel','O*-)': 'angel','(:-D': 'gossip', '=^.^=': 'cat'}\n",
    "regex_subs = {\n",
    "                r\"https?://[^s]+\" : \"URL\", # replace any url with URL\n",
    "                \"www.[^ ]+\" : \"URL\", # replace any url with URL\n",
    "                r\"@[^\\s]+\" : \"USR\", # replace any user tag with USR (the tag system is the same also in twitch)\n",
    "                r\"(.)\\1\\1+\" : r\"\\1\\1\", # replace 3 consecutive chars with 2\n",
    "                r\"[\\s]+\" : \" \", # remove consec spaces\n",
    "                \"#[a-z0-9]*\" : \"\" #remove hashtags, they are not used in twitch chats\n",
    "             }\n",
    "sbStem = SnowballStemmer(\"english\", True)\n",
    "preprocess = ps.Preprocess(negations, emojis, regex_subs, sbStem)"
   ]
  },
  {
   "cell_type": "code",
   "execution_count": 2,
   "metadata": {
    "pycharm": {
     "name": "#%%\n"
    }
   },
   "outputs": [
    {
     "name": "stdout",
     "output_type": "stream",
     "text": [
      "loading dataset...\n",
      "...dataset loaded\n"
     ]
    }
   ],
   "source": [
    "path = \"{BaseDir}/Advanced_Machine_Learning_Project/data/dataset.csv\".format(BaseDir=BASE_DIR)\n",
    "columns = [\"sentiment\", \"ids\", \"date\", \"flag\", \"user\", \"text\"]\n",
    "final_columns = [\"text\", \"sentiment\"]\n",
    "df = load_dataset(path, columns, final_columns)\n",
    "# df = resize(df, 50, \"sentiment\", 4)"
   ]
  },
  {
   "cell_type": "code",
   "execution_count": 3,
   "metadata": {
    "pycharm": {
     "name": "#%%\n"
    }
   },
   "outputs": [
    {
     "name": "stdout",
     "output_type": "stream",
     "text": [
      "starting preprocessing...\n",
      "...preprocessing completed\n",
      "starting splitting dataset...\n",
      "...dataset splitted\n"
     ]
    }
   ],
   "source": [
    "df = preprocess.df_pre_process(df, \"text\", \"sentiment\")\n",
    "X_train, X_test, Y_train, Y_test = df_train_test_split(df, \"text\", \"sentiment\",test_size=0.05)"
   ]
  },
  {
   "cell_type": "code",
   "execution_count": 4,
   "outputs": [
    {
     "name": "stdout",
     "output_type": "stream",
     "text": [
      "TFIDFLogisticRegression()\n"
     ]
    }
   ],
   "source": [
    "model = cnb.TFIDFLogisticRegression()\n",
    "params_grid = [dict(\n",
    "                tfidf_max_features=dists.randint(1, 50000000),\n",
    "                ngram_range=[(1, 2)],\n",
    "                penalty=['l1', 'l2', 'elasticnet', 'none'],\n",
    "                tol=dists.uniform(0.00001, 0.001),\n",
    "                C=dists.uniform(0.1, 2.0),\n",
    "                fit_intercept=[True, False],\n",
    "                solver=['saga'],\n",
    "                max_iter=dists.randint(100, 1000 + 1),\n",
    "                l1_ratio=dists.uniform(0.0, 1.0)\n",
    "                        )]\n",
    "trys = RandomizedSearchCV(model, param_distributions=params_grid, n_iter=1, n_jobs=1, return_train_score=True)"
   ],
   "metadata": {
    "collapsed": false,
    "pycharm": {
     "name": "#%%\n"
    }
   }
  },
  {
   "cell_type": "code",
   "execution_count": null,
   "outputs": [
    {
     "name": "stdout",
     "output_type": "stream",
     "text": [
      "starting vectorizing words...\n",
      "...words vectorized\n"
     ]
    }
   ],
   "source": [
    "start = time.time()\n",
    "search = trys.fit(X_train, Y_train)\n",
    "end = time.time()"
   ],
   "metadata": {
    "collapsed": false,
    "pycharm": {
     "name": "#%%\n",
     "is_executing": true
    }
   }
  },
  {
   "cell_type": "code",
   "execution_count": null,
   "outputs": [],
   "source": [
    "filename = uuid.uuid4().hex\n",
    "joblib.dump(search, filename)\n",
    "data = {\n",
    "    'time':(end - start),\n",
    "    'n_parameters':len(search.cv_results_['params']),\n",
    "    'cv_result' : str(search.cv_results_),\n",
    "    'best_estimator': str(search.best_estimator_),\n",
    "    'best_score': search.best_score_,\n",
    "    'best_param': search.best_params_,\n",
    "    'model_name': filename\n",
    "}\n",
    "with open(\"{BaseDir}/Advanced_Machine_Learning_Project/ML/RandomSearchCvLR.json\".format(BaseDir=BASE_DIR),'a') as f:\n",
    "            json.dump(data, f, indent=1)"
   ],
   "metadata": {
    "collapsed": false,
    "pycharm": {
     "name": "#%%\n",
     "is_executing": true
    }
   }
  },
  {
   "cell_type": "code",
   "execution_count": 12,
   "outputs": [
    {
     "name": "stdout",
     "output_type": "stream",
     "text": [
      "starting vectorizing words...\n",
      "...words vectorized\n",
      "              precision    recall  f1-score   support\n",
      "\n",
      "           0       0.00      0.00      0.00         2\n",
      "           1       0.33      1.00      0.50         1\n",
      "\n",
      "    accuracy                           0.33         3\n",
      "   macro avg       0.17      0.50      0.25         3\n",
      "weighted avg       0.11      0.33      0.17         3\n",
      "\n"
     ]
    },
    {
     "name": "stderr",
     "output_type": "stream",
     "text": [
      "/home/annabelle/.local/lib/python3.8/site-packages/sklearn/metrics/_classification.py:1318: UndefinedMetricWarning: Precision and F-score are ill-defined and being set to 0.0 in labels with no predicted samples. Use `zero_division` parameter to control this behavior.\n",
      "  _warn_prf(average, modifier, msg_start, len(result))\n",
      "/home/annabelle/.local/lib/python3.8/site-packages/sklearn/metrics/_classification.py:1318: UndefinedMetricWarning: Precision and F-score are ill-defined and being set to 0.0 in labels with no predicted samples. Use `zero_division` parameter to control this behavior.\n",
      "  _warn_prf(average, modifier, msg_start, len(result))\n",
      "/home/annabelle/.local/lib/python3.8/site-packages/sklearn/metrics/_classification.py:1318: UndefinedMetricWarning: Precision and F-score are ill-defined and being set to 0.0 in labels with no predicted samples. Use `zero_division` parameter to control this behavior.\n",
      "  _warn_prf(average, modifier, msg_start, len(result))\n"
     ]
    },
    {
     "data": {
      "text/plain": "<Figure size 432x288 with 2 Axes>",
      "image/png": "[encoded data removed]"
     },
     "metadata": {
      "needs_background": "light"
     },
     "output_type": "display_data"
    }
   ],
   "source": [
    "# model = joblib.load(filename)\n",
    "model_evaluate(search, X_test, Y_test)"
   ],
   "metadata": {
    "collapsed": false,
    "pycharm": {
     "name": "#%%\n"
    }
   }
  },
  {
   "cell_type": "code",
   "execution_count": null,
   "outputs": [],
   "source": [],
   "metadata": {
    "collapsed": false,
    "pycharm": {
     "name": "#%%\n"
    }
   }
  }
 ],
 "metadata": {
  "kernelspec": {
   "display_name": "Python 3 (ipykernel)",
   "language": "python",
   "name": "python3"
  },
  "language_info": {
   "codemirror_mode": {
    "name": "ipython",
    "version": 3
   },
   "file_extension": ".py",
   "mimetype": "text/x-python",
   "name": "python",
   "nbconvert_exporter": "python",
   "pygments_lexer": "ipython3",
   "version": "3.8.5"
  }
 },
 "nbformat": 4,
 "nbformat_minor": 1
}