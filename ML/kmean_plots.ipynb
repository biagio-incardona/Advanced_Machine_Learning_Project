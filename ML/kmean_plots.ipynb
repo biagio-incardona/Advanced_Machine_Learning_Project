{
 "cells": [
  {
   "cell_type": "code",
   "execution_count": 10,
   "metadata": {
    "pycharm": {
     "name": "#%%\n"
    }
   },
   "outputs": [
    {
     "name": "stdout",
     "output_type": "stream",
     "text": [
      "loading dataset...\n",
      "...dataset loaded\n",
      "starting preprocessing...\n",
      "...preprocessing completed\n",
      "starting vectorizing words...\n",
      "...words vectorized\n"
     ]
    },
    {
     "data": {
      "text/plain": "<Figure size 432x288 with 1 Axes>",
      "image/png": "[encoded data removed]"
     },
     "metadata": {
      "needs_background": "light"
     },
     "output_type": "display_data"
    }
   ],
   "source": [
    "import  numpy as np\n",
    "from sklearn.cluster import KMeans\n",
    "from preclustering import PreClustering\n",
    "import matplotlib.pyplot as plt\n",
    "import pandas as pd\n",
    "from sklearn.feature_extraction.text import TfidfVectorizer\n",
    "from sklearn.metrics import silhouette_score\n",
    "sse={}\n",
    "X,df = PreClustering.main()\n",
    "\n",
    "for k in np.arange(100,900,100):\n",
    "    kmeans = KMeans(n_clusters=k, max_iter=800).fit(X)\n",
    "    sse[k] = kmeans.inertia_\n",
    "plt.plot(list(sse.keys()),list(sse.values()), 'bx-')\n",
    "plt.xlabel('Values for K')\n",
    "plt.ylabel('SSE')\n",
    "plt.show();"
   ]
  },
  {
   "cell_type": "code",
   "execution_count": 11,
   "outputs": [
    {
     "data": {
      "text/plain": "<Figure size 432x288 with 1 Axes>",
      "image/png": "[encoded data removed]"
     },
     "metadata": {
      "needs_background": "light"
     },
     "output_type": "display_data"
    }
   ],
   "source": [
    "sse = {}\n",
    "\n",
    "for k in np.arange(100,900,100):\n",
    "    kmeans = KMeans(n_clusters=k, max_iter=800).fit(X)\n",
    "    sse[k] = silhouette_score(X, kmeans.labels_)\n",
    "\n",
    "plt.plot(list(sse.keys()),list(sse.values()), 'bx-')\n",
    "plt.xlabel('Values for K')\n",
    "plt.ylabel('SSE')\n",
    "plt.show();"
   ],
   "metadata": {
    "collapsed": false,
    "pycharm": {
     "name": "#%%\n"
    }
   }
  },
  {
   "cell_type": "code",
   "execution_count": 17,
   "outputs": [
    {
     "name": "stderr",
     "output_type": "stream",
     "text": [
      "/home/annabelle/Documents/Advanced_Machine_Learning_Project/venv/lib/python3.8/site-packages/sklearn/utils/deprecation.py:87: FutureWarning: Function get_feature_names is deprecated; get_feature_names is deprecated in 1.0 and will be removed in 1.2. Please use get_feature_names_out instead.\n",
      "  warnings.warn(msg, category=FutureWarning)\n"
     ]
    }
   ],
   "source": [
    "vectoriser = TfidfVectorizer(ngram_range=(1,2), max_features=100)\n",
    "\n",
    "kmeans = KMeans(n_clusters=200)\n",
    "kmeans.fit(X)\n",
    "result = pd.concat([df,pd.DataFrame(X.toarray(),columns=vectoriser.get_feature_names())],axis=1)\n",
    "result['cluster'] = kmeans.predict(X)"
   ],
   "metadata": {
    "collapsed": false,
    "pycharm": {
     "name": "#%%\n"
    }
   }
  },
  {
   "cell_type": "code",
   "execution_count": 18,
   "outputs": [
    {
     "data": {
      "text/plain": "                                                   text  cluster\n0     serious consid not going. good thing i have no...      125\n1     i have a crave for a mrs crimbl coconut macaro...      145\n2     rip k swift the good die young all da time dat...       13\n3     itun upgrad ask licens agreement after the ins...       24\n4     i'm tri to make lemon gelati but it wont set p...       32\n...                                                 ...      ...\n4995     happi birthday noah! one year went by so fast       100\n4996                               usr good morn there        66\n4997  wire mag need to serious chill out. i just ren...      187\n4998  some how i win a bunch of giveaways, i just re...       66\n4999                     usr it's not avail for me yet        73\n\n[5000 rows x 2 columns]",
      "text/html": "<div>\n<style scoped>\n    .dataframe tbody tr th:only-of-type {\n        vertical-align: middle;\n    }\n\n    .dataframe tbody tr th {\n        vertical-align: top;\n    }\n\n    .dataframe thead th {\n        text-align: right;\n    }\n</style>\n<table border=\"1\" class=\"dataframe\">\n  <thead>\n    <tr style=\"text-align: right;\">\n      <th></th>\n      <th>text</th>\n      <th>cluster</th>\n    </tr>\n  </thead>\n  <tbody>\n    <tr>\n      <th>0</th>\n      <td>serious consid not going. good thing i have no...</td>\n      <td>125</td>\n    </tr>\n    <tr>\n      <th>1</th>\n      <td>i have a crave for a mrs crimbl coconut macaro...</td>\n      <td>145</td>\n    </tr>\n    <tr>\n      <th>2</th>\n      <td>rip k swift the good die young all da time dat...</td>\n      <td>13</td>\n    </tr>\n    <tr>\n      <th>3</th>\n      <td>itun upgrad ask licens agreement after the ins...</td>\n      <td>24</td>\n    </tr>\n    <tr>\n      <th>4</th>\n      <td>i'm tri to make lemon gelati but it wont set p...</td>\n      <td>32</td>\n    </tr>\n    <tr>\n      <th>...</th>\n      <td>...</td>\n      <td>...</td>\n    </tr>\n    <tr>\n      <th>4995</th>\n      <td>happi birthday noah! one year went by so fast</td>\n      <td>100</td>\n    </tr>\n    <tr>\n      <th>4996</th>\n      <td>usr good morn there</td>\n      <td>66</td>\n    </tr>\n    <tr>\n      <th>4997</th>\n      <td>wire mag need to serious chill out. i just ren...</td>\n      <td>187</td>\n    </tr>\n    <tr>\n      <th>4998</th>\n      <td>some how i win a bunch of giveaways, i just re...</td>\n      <td>66</td>\n    </tr>\n    <tr>\n      <th>4999</th>\n      <td>usr it's not avail for me yet</td>\n      <td>73</td>\n    </tr>\n  </tbody>\n</table>\n<p>5000 rows × 2 columns</p>\n</div>"
     },
     "execution_count": 18,
     "metadata": {},
     "output_type": "execute_result"
    }
   ],
   "source": [
    "result[['text', 'cluster']]"
   ],
   "metadata": {
    "collapsed": false,
    "pycharm": {
     "name": "#%%\n"
    }
   }
  },
  {
   "cell_type": "code",
   "execution_count": 19,
   "outputs": [],
   "source": [
    "clusters = result['cluster'].unique()\n",
    "labels = []\n",
    "for i in range(len(clusters)):\n",
    "    subset = result[result['cluster'] == clusters[i]]\n",
    "    words = ' '.join([x for x in np.where(subset.all()!=0,subset.columns,None) if x and x!='text' and x!='cluster' and len(x.split()) == 1])\n",
    "    labels.append(words)\n",
    "labels_table = pd.DataFrame(zip(clusters,labels),columns=['cluster','label'])\n",
    "result_labelled = pd.merge(result,labels_table,on='cluster',how='left')"
   ],
   "metadata": {
    "collapsed": false,
    "pycharm": {
     "name": "#%%\n"
    }
   }
  },
  {
   "cell_type": "code",
   "execution_count": 15,
   "outputs": [
    {
     "data": {
      "text/plain": "                                                   text  cluster label\n0     serious consid not going. good thing i have no...       12      \n1     i have a crave for a mrs crimbl coconut macaro...        2   are\n2     rip k swift the good die young all da time dat...       12      \n3     itun upgrad ask licens agreement after the ins...        1    to\n4     i'm tri to make lemon gelati but it wont set p...       11  make\n...                                                 ...      ...   ...\n4995     happi birthday noah! one year went by so fast        12      \n4996                               usr good morn there        12      \n4997  wire mag need to serious chill out. i just ren...        1    to\n4998  some how i win a bunch of giveaways, i just re...        2   are\n4999                     usr it's not avail for me yet        13    it\n\n[5000 rows x 3 columns]",
      "text/html": "<div>\n<style scoped>\n    .dataframe tbody tr th:only-of-type {\n        vertical-align: middle;\n    }\n\n    .dataframe tbody tr th {\n        vertical-align: top;\n    }\n\n    .dataframe thead th {\n        text-align: right;\n    }\n</style>\n<table border=\"1\" class=\"dataframe\">\n  <thead>\n    <tr style=\"text-align: right;\">\n      <th></th>\n      <th>text</th>\n      <th>cluster</th>\n      <th>label</th>\n    </tr>\n  </thead>\n  <tbody>\n    <tr>\n      <th>0</th>\n      <td>serious consid not going. good thing i have no...</td>\n      <td>12</td>\n      <td></td>\n    </tr>\n    <tr>\n      <th>1</th>\n      <td>i have a crave for a mrs crimbl coconut macaro...</td>\n      <td>2</td>\n      <td>are</td>\n    </tr>\n    <tr>\n      <th>2</th>\n      <td>rip k swift the good die young all da time dat...</td>\n      <td>12</td>\n      <td></td>\n    </tr>\n    <tr>\n      <th>3</th>\n      <td>itun upgrad ask licens agreement after the ins...</td>\n      <td>1</td>\n      <td>to</td>\n    </tr>\n    <tr>\n      <th>4</th>\n      <td>i'm tri to make lemon gelati but it wont set p...</td>\n      <td>11</td>\n      <td>make</td>\n    </tr>\n    <tr>\n      <th>...</th>\n      <td>...</td>\n      <td>...</td>\n      <td>...</td>\n    </tr>\n    <tr>\n      <th>4995</th>\n      <td>happi birthday noah! one year went by so fast</td>\n      <td>12</td>\n      <td></td>\n    </tr>\n    <tr>\n      <th>4996</th>\n      <td>usr good morn there</td>\n      <td>12</td>\n      <td></td>\n    </tr>\n    <tr>\n      <th>4997</th>\n      <td>wire mag need to serious chill out. i just ren...</td>\n      <td>1</td>\n      <td>to</td>\n    </tr>\n    <tr>\n      <th>4998</th>\n      <td>some how i win a bunch of giveaways, i just re...</td>\n      <td>2</td>\n      <td>are</td>\n    </tr>\n    <tr>\n      <th>4999</th>\n      <td>usr it's not avail for me yet</td>\n      <td>13</td>\n      <td>it</td>\n    </tr>\n  </tbody>\n</table>\n<p>5000 rows × 3 columns</p>\n</div>"
     },
     "execution_count": 15,
     "metadata": {},
     "output_type": "execute_result"
    }
   ],
   "source": [
    "result_labelled[['text', 'cluster', 'label']]"
   ],
   "metadata": {
    "collapsed": false,
    "pycharm": {
     "name": "#%%\n"
    }
   }
  },
  {
   "cell_type": "code",
   "execution_count": 20,
   "outputs": [
    {
     "data": {
      "text/plain": "                     count of text\nlabel                             \n                               143\ngo to                          117\nusr                            115\ncan not                        105\nquot                            97\n...                            ...\nbe to usr you                    4\nis me the                        3\nof the usr with you              3\nday did not                      3\nam for look now                  2\n\n[157 rows x 1 columns]",
      "text/html": "<div>\n<style scoped>\n    .dataframe tbody tr th:only-of-type {\n        vertical-align: middle;\n    }\n\n    .dataframe tbody tr th {\n        vertical-align: top;\n    }\n\n    .dataframe thead th {\n        text-align: right;\n    }\n</style>\n<table border=\"1\" class=\"dataframe\">\n  <thead>\n    <tr style=\"text-align: right;\">\n      <th></th>\n      <th>count of text</th>\n    </tr>\n    <tr>\n      <th>label</th>\n      <th></th>\n    </tr>\n  </thead>\n  <tbody>\n    <tr>\n      <th></th>\n      <td>143</td>\n    </tr>\n    <tr>\n      <th>go to</th>\n      <td>117</td>\n    </tr>\n    <tr>\n      <th>usr</th>\n      <td>115</td>\n    </tr>\n    <tr>\n      <th>can not</th>\n      <td>105</td>\n    </tr>\n    <tr>\n      <th>quot</th>\n      <td>97</td>\n    </tr>\n    <tr>\n      <th>...</th>\n      <td>...</td>\n    </tr>\n    <tr>\n      <th>be to usr you</th>\n      <td>4</td>\n    </tr>\n    <tr>\n      <th>is me the</th>\n      <td>3</td>\n    </tr>\n    <tr>\n      <th>of the usr with you</th>\n      <td>3</td>\n    </tr>\n    <tr>\n      <th>day did not</th>\n      <td>3</td>\n    </tr>\n    <tr>\n      <th>am for look now</th>\n      <td>2</td>\n    </tr>\n  </tbody>\n</table>\n<p>157 rows × 1 columns</p>\n</div>"
     },
     "execution_count": 20,
     "metadata": {},
     "output_type": "execute_result"
    }
   ],
   "source": [
    "pd.pivot_table(result_labelled, index=['label'], values=['text'], aggfunc='count').sort_values(['text'], ascending=False).rename(columns={'text':'count of text'})"
   ],
   "metadata": {
    "collapsed": false,
    "pycharm": {
     "name": "#%%\n"
    }
   }
  },
  {
   "cell_type": "code",
   "execution_count": null,
   "outputs": [],
   "source": [],
   "metadata": {
    "collapsed": false,
    "pycharm": {
     "name": "#%%\n"
    }
   }
  }
 ],
 "metadata": {
  "kernelspec": {
   "display_name": "Python 3 (ipykernel)",
   "language": "python",
   "name": "python3"
  },
  "language_info": {
   "codemirror_mode": {
    "name": "ipython",
    "version": 3
   },
   "file_extension": ".py",
   "mimetype": "text/x-python",
   "name": "python",
   "nbconvert_exporter": "python",
   "pygments_lexer": "ipython3",
   "version": "3.7.12"
  }
 },
 "nbformat": 4,
 "nbformat_minor": 1
}