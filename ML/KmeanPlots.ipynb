{
 "cells": [
  {
   "cell_type": "code",
   "execution_count": 12,
   "metadata": {
    "pycharm": {
     "name": "#%%\n"
    }
   },
   "outputs": [
    {
     "name": "stdout",
     "output_type": "stream",
     "text": [
      "loading dataset...\n",
      "...dataset loaded\n",
      "starting preprocessing...\n",
      "...preprocessing completed\n",
      "starting vectorizing words...\n",
      "...words vectorized\n"
     ]
    },
    {
     "data": {
      "text/plain": "<Figure size 432x288 with 1 Axes>",
      "image/png": "[encoded data removed]"
     },
     "metadata": {
      "needs_background": "light"
     },
     "output_type": "display_data"
    }
   ],
   "source": [
    "import  numpy as np\n",
    "from sklearn.cluster import KMeans\n",
    "from KmeanClustering import Kmeanclustering\n",
    "import matplotlib.pyplot as plt\n",
    "import pandas as pd\n",
    "from sklearn.feature_extraction.text import TfidfVectorizer\n",
    "import plotly.express as px\n",
    "\n",
    "sse={}\n",
    "X,df = Kmeanclustering.main()\n",
    "\n",
    "for k in np.arange(100,900,100):\n",
    "    kmeans = KMeans(n_clusters=k, max_iter=800).fit(X)\n",
    "    sse[k] = kmeans.inertia_\n",
    "plt.plot(list(sse.keys()),list(sse.values()), 'bx-')\n",
    "plt.xlabel('Values for K')\n",
    "plt.ylabel('SSE')\n",
    "plt.show();"
   ]
  },
  {
   "cell_type": "code",
   "execution_count": 4,
   "outputs": [
    {
     "name": "stderr",
     "output_type": "stream",
     "text": [
      "/home/annabelle/Documents/Advanced_Machine_Learning_Project/venv/lib/python3.8/site-packages/sklearn/utils/deprecation.py:87: FutureWarning: Function get_feature_names is deprecated; get_feature_names is deprecated in 1.0 and will be removed in 1.2. Please use get_feature_names_out instead.\n",
      "  warnings.warn(msg, category=FutureWarning)\n"
     ]
    }
   ],
   "source": [
    "vectoriser = TfidfVectorizer(ngram_range=(1,2), max_features=100)\n",
    "vectoriser.fit_transform(df)\n",
    "\n",
    "kmeans = KMeans(n_clusters=200)\n",
    "kmeans.fit(X)\n",
    "result = pd.concat([df,pd.DataFrame(X.toarray(),columns=vectoriser.get_feature_names())],axis=1)\n",
    "result['cluster'] = kmeans.predict(X)"
   ],
   "metadata": {
    "collapsed": false,
    "pycharm": {
     "name": "#%%\n"
    }
   }
  },
  {
   "cell_type": "code",
   "execution_count": 5,
   "outputs": [
    {
     "data": {
      "text/plain": "                                                    text  cluster\n0                                            usr we are        97\n1               lookin for place to move full of crap!!        88\n2            usr must b nice! wish i could go back2 bed       107\n3      usr im in us in august.. she will not be aroun...       94\n4                      the defens rests. mayb for good.        54\n...                                                  ...      ...\n49995  usr realli wish i was there!! so glad you had ...      117\n49996  usr wow amaz pic! u have not age a bit! ..was ...       53\n49997  usr an apolog if it's not someth she will like...      144\n49998  waddyaknow? qt cup have 1/4,1/2 etc on them-cb...       11\n49999        just got up.. damn twitter down last night       170\n\n[50000 rows x 2 columns]",
      "text/html": "<div>\n<style scoped>\n    .dataframe tbody tr th:only-of-type {\n        vertical-align: middle;\n    }\n\n    .dataframe tbody tr th {\n        vertical-align: top;\n    }\n\n    .dataframe thead th {\n        text-align: right;\n    }\n</style>\n<table border=\"1\" class=\"dataframe\">\n  <thead>\n    <tr style=\"text-align: right;\">\n      <th></th>\n      <th>text</th>\n      <th>cluster</th>\n    </tr>\n  </thead>\n  <tbody>\n    <tr>\n      <th>0</th>\n      <td>usr we are</td>\n      <td>97</td>\n    </tr>\n    <tr>\n      <th>1</th>\n      <td>lookin for place to move full of crap!!</td>\n      <td>88</td>\n    </tr>\n    <tr>\n      <th>2</th>\n      <td>usr must b nice! wish i could go back2 bed</td>\n      <td>107</td>\n    </tr>\n    <tr>\n      <th>3</th>\n      <td>usr im in us in august.. she will not be aroun...</td>\n      <td>94</td>\n    </tr>\n    <tr>\n      <th>4</th>\n      <td>the defens rests. mayb for good.</td>\n      <td>54</td>\n    </tr>\n    <tr>\n      <th>...</th>\n      <td>...</td>\n      <td>...</td>\n    </tr>\n    <tr>\n      <th>49995</th>\n      <td>usr realli wish i was there!! so glad you had ...</td>\n      <td>117</td>\n    </tr>\n    <tr>\n      <th>49996</th>\n      <td>usr wow amaz pic! u have not age a bit! ..was ...</td>\n      <td>53</td>\n    </tr>\n    <tr>\n      <th>49997</th>\n      <td>usr an apolog if it's not someth she will like...</td>\n      <td>144</td>\n    </tr>\n    <tr>\n      <th>49998</th>\n      <td>waddyaknow? qt cup have 1/4,1/2 etc on them-cb...</td>\n      <td>11</td>\n    </tr>\n    <tr>\n      <th>49999</th>\n      <td>just got up.. damn twitter down last night</td>\n      <td>170</td>\n    </tr>\n  </tbody>\n</table>\n<p>50000 rows × 2 columns</p>\n</div>"
     },
     "execution_count": 5,
     "metadata": {},
     "output_type": "execute_result"
    }
   ],
   "source": [
    "result[['text', 'cluster']]"
   ],
   "metadata": {
    "collapsed": false,
    "pycharm": {
     "name": "#%%\n"
    }
   }
  },
  {
   "cell_type": "code",
   "execution_count": 6,
   "outputs": [],
   "source": [
    "clusters = result['cluster'].unique()\n",
    "labels = []\n",
    "for i in range(len(clusters)):\n",
    "    subset = result[result['cluster'] == clusters[i]]\n",
    "    words = ' '.join([x for x in np.where(subset.all()!=0,subset.columns,None) if x and x!='text' and x!='cluster' and len(x.split()) == 1])\n",
    "    labels.append(words)\n",
    "labels_table = pd.DataFrame(zip(clusters,labels),columns=['cluster','label'])\n",
    "result_labelled = pd.merge(result,labels_table,on='cluster',how='left')"
   ],
   "metadata": {
    "collapsed": false,
    "pycharm": {
     "name": "#%%\n"
    }
   }
  },
  {
   "cell_type": "code",
   "execution_count": 7,
   "outputs": [
    {
     "data": {
      "text/plain": "                                                    text  cluster       label\n0                                            usr we are        97      are we\n1               lookin for place to move full of crap!!        88          of\n2            usr must b nice! wish i could go back2 bed       107          go\n3      usr im in us in august.. she will not be aroun...       94     be will\n4                      the defens rests. mayb for good.        54        good\n...                                                  ...      ...         ...\n49995  usr realli wish i was there!! so glad you had ...      117     so your\n49996  usr wow amaz pic! u have not age a bit! ..was ...       53     not was\n49997  usr an apolog if it's not someth she will like...      144   like your\n49998  waddyaknow? qt cup have 1/4,1/2 etc on them-cb...       11          as\n49999        just got up.. damn twitter down last night       170  last night\n\n[50000 rows x 3 columns]",
      "text/html": "<div>\n<style scoped>\n    .dataframe tbody tr th:only-of-type {\n        vertical-align: middle;\n    }\n\n    .dataframe tbody tr th {\n        vertical-align: top;\n    }\n\n    .dataframe thead th {\n        text-align: right;\n    }\n</style>\n<table border=\"1\" class=\"dataframe\">\n  <thead>\n    <tr style=\"text-align: right;\">\n      <th></th>\n      <th>text</th>\n      <th>cluster</th>\n      <th>label</th>\n    </tr>\n  </thead>\n  <tbody>\n    <tr>\n      <th>0</th>\n      <td>usr we are</td>\n      <td>97</td>\n      <td>are we</td>\n    </tr>\n    <tr>\n      <th>1</th>\n      <td>lookin for place to move full of crap!!</td>\n      <td>88</td>\n      <td>of</td>\n    </tr>\n    <tr>\n      <th>2</th>\n      <td>usr must b nice! wish i could go back2 bed</td>\n      <td>107</td>\n      <td>go</td>\n    </tr>\n    <tr>\n      <th>3</th>\n      <td>usr im in us in august.. she will not be aroun...</td>\n      <td>94</td>\n      <td>be will</td>\n    </tr>\n    <tr>\n      <th>4</th>\n      <td>the defens rests. mayb for good.</td>\n      <td>54</td>\n      <td>good</td>\n    </tr>\n    <tr>\n      <th>...</th>\n      <td>...</td>\n      <td>...</td>\n      <td>...</td>\n    </tr>\n    <tr>\n      <th>49995</th>\n      <td>usr realli wish i was there!! so glad you had ...</td>\n      <td>117</td>\n      <td>so your</td>\n    </tr>\n    <tr>\n      <th>49996</th>\n      <td>usr wow amaz pic! u have not age a bit! ..was ...</td>\n      <td>53</td>\n      <td>not was</td>\n    </tr>\n    <tr>\n      <th>49997</th>\n      <td>usr an apolog if it's not someth she will like...</td>\n      <td>144</td>\n      <td>like your</td>\n    </tr>\n    <tr>\n      <th>49998</th>\n      <td>waddyaknow? qt cup have 1/4,1/2 etc on them-cb...</td>\n      <td>11</td>\n      <td>as</td>\n    </tr>\n    <tr>\n      <th>49999</th>\n      <td>just got up.. damn twitter down last night</td>\n      <td>170</td>\n      <td>last night</td>\n    </tr>\n  </tbody>\n</table>\n<p>50000 rows × 3 columns</p>\n</div>"
     },
     "execution_count": 7,
     "metadata": {},
     "output_type": "execute_result"
    }
   ],
   "source": [
    "result_labelled[['text', 'cluster', 'label']]"
   ],
   "metadata": {
    "collapsed": false,
    "pycharm": {
     "name": "#%%\n"
    }
   }
  },
  {
   "cell_type": "code",
   "execution_count": 8,
   "outputs": [
    {
     "data": {
      "text/plain": "                            count of text\nlabel                                    \ncan not                              1189\nusr                                  1160\n                                     1062\nquot                                  950\ndo not                                924\n...                                   ...\nthe usr                                76\nwhen will                              65\nneed we                                59\nare day get on the usr you             58\nstill twitter                          22\n\n[176 rows x 1 columns]",
      "text/html": "<div>\n<style scoped>\n    .dataframe tbody tr th:only-of-type {\n        vertical-align: middle;\n    }\n\n    .dataframe tbody tr th {\n        vertical-align: top;\n    }\n\n    .dataframe thead th {\n        text-align: right;\n    }\n</style>\n<table border=\"1\" class=\"dataframe\">\n  <thead>\n    <tr style=\"text-align: right;\">\n      <th></th>\n      <th>count of text</th>\n    </tr>\n    <tr>\n      <th>label</th>\n      <th></th>\n    </tr>\n  </thead>\n  <tbody>\n    <tr>\n      <th>can not</th>\n      <td>1189</td>\n    </tr>\n    <tr>\n      <th>usr</th>\n      <td>1160</td>\n    </tr>\n    <tr>\n      <th></th>\n      <td>1062</td>\n    </tr>\n    <tr>\n      <th>quot</th>\n      <td>950</td>\n    </tr>\n    <tr>\n      <th>do not</th>\n      <td>924</td>\n    </tr>\n    <tr>\n      <th>...</th>\n      <td>...</td>\n    </tr>\n    <tr>\n      <th>the usr</th>\n      <td>76</td>\n    </tr>\n    <tr>\n      <th>when will</th>\n      <td>65</td>\n    </tr>\n    <tr>\n      <th>need we</th>\n      <td>59</td>\n    </tr>\n    <tr>\n      <th>are day get on the usr you</th>\n      <td>58</td>\n    </tr>\n    <tr>\n      <th>still twitter</th>\n      <td>22</td>\n    </tr>\n  </tbody>\n</table>\n<p>176 rows × 1 columns</p>\n</div>"
     },
     "execution_count": 8,
     "metadata": {},
     "output_type": "execute_result"
    }
   ],
   "source": [
    "pd.pivot_table(result_labelled, index=['label'], values=['text'], aggfunc='count').sort_values(['text'], ascending=False).rename(columns={'text':'count of text'})"
   ],
   "metadata": {
    "collapsed": false,
    "pycharm": {
     "name": "#%%\n"
    }
   }
  }
 ],
 "metadata": {
  "kernelspec": {
   "display_name": "Python 3 (ipykernel)",
   "language": "python",
   "name": "python3"
  },
  "language_info": {
   "codemirror_mode": {
    "name": "ipython",
    "version": 3
   },
   "file_extension": ".py",
   "mimetype": "text/x-python",
   "name": "python",
   "nbconvert_exporter": "python",
   "pygments_lexer": "ipython3",
   "version": "3.7.12"
  }
 },
 "nbformat": 4,
 "nbformat_minor": 1
}