{
 "cells": [
  {
   "cell_type": "code",
   "execution_count": 2,
   "metadata": {
    "pycharm": {
     "name": "#%%\n"
    }
   },
   "outputs": [
    {
     "name": "stdout",
     "output_type": "stream",
     "text": [
      "loading dataset...\n",
      "...dataset loaded\n",
      "starting preprocessing...\n",
      "...preprocessing completed\n",
      "starting vectorizing words...\n",
      "...words vectorized\n",
      "loading dataset...\n",
      "...dataset loaded\n",
      "starting preprocessing...\n",
      "...preprocessing completed\n",
      "starting vectorizing words...\n",
      "...words vectorized\n"
     ]
    },
    {
     "data": {
      "text/plain": "<Figure size 432x288 with 1 Axes>",
      "image/png": "[encoded data removed]"
     },
     "metadata": {
      "needs_background": "light"
     },
     "output_type": "display_data"
    }
   ],
   "source": [
    "import  numpy as np\n",
    "from sklearn.cluster import KMeans\n",
    "from preclustering import PreClustering\n",
    "import matplotlib.pyplot as plt\n",
    "import pandas as pd\n",
    "from sklearn.feature_extraction.text import TfidfVectorizer\n",
    "from sklearn.metrics import silhouette_score\n",
    "sse={}\n",
    "X,df = PreClustering.main()\n",
    "\n",
    "for k in np.arange(100,900,100):\n",
    "    kmeans = KMeans(n_clusters=k, max_iter=800).fit(X)\n",
    "    sse[k] = kmeans.inertia_\n",
    "plt.plot(list(sse.keys()),list(sse.values()), 'bx-')\n",
    "plt.xlabel('Values for K')\n",
    "plt.ylabel('SSE')\n",
    "plt.show();"
   ]
  },
  {
   "cell_type": "code",
   "execution_count": 8,
   "outputs": [
    {
     "name": "stderr",
     "output_type": "stream",
     "text": [
      "/home/annabelle/Documents/Advanced_Machine_Learning_Project/venv/lib/python3.8/site-packages/sklearn/utils/deprecation.py:87: FutureWarning: Function get_feature_names is deprecated; get_feature_names is deprecated in 1.0 and will be removed in 1.2. Please use get_feature_names_out instead.\n",
      "  warnings.warn(msg, category=FutureWarning)\n"
     ]
    }
   ],
   "source": [
    "vectoriser = TfidfVectorizer(ngram_range=(1,2), max_features=100)\n",
    "vectoriser.fit_transform(df)\n",
    "kmeans = KMeans(n_clusters=200)\n",
    "kmeans.fit(X)\n",
    "result = pd.concat([df,pd.DataFrame(X.toarray(),columns=vectoriser.get_feature_names())],axis=1)\n",
    "result['cluster'] = kmeans.predict(X)"
   ],
   "metadata": {
    "collapsed": false,
    "pycharm": {
     "name": "#%%\n"
    }
   }
  },
  {
   "cell_type": "code",
   "execution_count": 9,
   "outputs": [
    {
     "data": {
      "text/plain": "                                                    text  cluster\n0       usr i do not play wow any more haha. just drink       182\n1      usr o hera.. hera, wherefor art though, hera? ...       27\n2               just gtting startd on this wha do ya do       143\n3                the bass, the rock, the mic, the trebl        47\n4      usr have a good time. wish i could be out @ ja...       11\n...                                                  ...      ...\n49995  just ad &quot;next video convert 2.6.0&quot; t...      156\n49996  dead tire after being touristy. can not compla...       45\n49997               usr i wish you were play at my prom       198\n49998                           usr omgpop is the best!       194\n49999  is in houston with the famili wish amia was he...       32\n\n[50000 rows x 2 columns]",
      "text/html": "<div>\n<style scoped>\n    .dataframe tbody tr th:only-of-type {\n        vertical-align: middle;\n    }\n\n    .dataframe tbody tr th {\n        vertical-align: top;\n    }\n\n    .dataframe thead th {\n        text-align: right;\n    }\n</style>\n<table border=\"1\" class=\"dataframe\">\n  <thead>\n    <tr style=\"text-align: right;\">\n      <th></th>\n      <th>text</th>\n      <th>cluster</th>\n    </tr>\n  </thead>\n  <tbody>\n    <tr>\n      <th>0</th>\n      <td>usr i do not play wow any more haha. just drink</td>\n      <td>182</td>\n    </tr>\n    <tr>\n      <th>1</th>\n      <td>usr o hera.. hera, wherefor art though, hera? ...</td>\n      <td>27</td>\n    </tr>\n    <tr>\n      <th>2</th>\n      <td>just gtting startd on this wha do ya do</td>\n      <td>143</td>\n    </tr>\n    <tr>\n      <th>3</th>\n      <td>the bass, the rock, the mic, the trebl</td>\n      <td>47</td>\n    </tr>\n    <tr>\n      <th>4</th>\n      <td>usr have a good time. wish i could be out @ ja...</td>\n      <td>11</td>\n    </tr>\n    <tr>\n      <th>...</th>\n      <td>...</td>\n      <td>...</td>\n    </tr>\n    <tr>\n      <th>49995</th>\n      <td>just ad &amp;quot;next video convert 2.6.0&amp;quot; t...</td>\n      <td>156</td>\n    </tr>\n    <tr>\n      <th>49996</th>\n      <td>dead tire after being touristy. can not compla...</td>\n      <td>45</td>\n    </tr>\n    <tr>\n      <th>49997</th>\n      <td>usr i wish you were play at my prom</td>\n      <td>198</td>\n    </tr>\n    <tr>\n      <th>49998</th>\n      <td>usr omgpop is the best!</td>\n      <td>194</td>\n    </tr>\n    <tr>\n      <th>49999</th>\n      <td>is in houston with the famili wish amia was he...</td>\n      <td>32</td>\n    </tr>\n  </tbody>\n</table>\n<p>50000 rows × 2 columns</p>\n</div>"
     },
     "execution_count": 9,
     "metadata": {},
     "output_type": "execute_result"
    }
   ],
   "source": [
    "result[['text', 'cluster']]"
   ],
   "metadata": {
    "collapsed": false,
    "pycharm": {
     "name": "#%%\n"
    }
   }
  },
  {
   "cell_type": "code",
   "execution_count": 10,
   "outputs": [],
   "source": [
    "clusters = result['cluster'].unique()\n",
    "labels = []\n",
    "for i in range(len(clusters)):\n",
    "    subset = result[result['cluster'] == clusters[i]]\n",
    "    words = ' '.join([x for x in np.where(subset.all()!=0,subset.columns,None) if x and x!='text' and x!='cluster' and len(x.split()) == 1])\n",
    "    labels.append(words)\n",
    "labels_table = pd.DataFrame(zip(clusters,labels),columns=['cluster','label'])\n",
    "result_labelled = pd.merge(result,labels_table,on='cluster',how='left')"
   ],
   "metadata": {
    "collapsed": false,
    "pycharm": {
     "name": "#%%\n"
    }
   }
  },
  {
   "cell_type": "code",
   "execution_count": 11,
   "outputs": [
    {
     "data": {
      "text/plain": "                                                    text  cluster   label\n0       usr i do not play wow any more haha. just drink       182  do not\n1      usr o hera.. hera, wherefor art though, hera? ...       27     usr\n2               just gtting startd on this wha do ya do       143      do\n3                the bass, the rock, the mic, the trebl        47     the\n4      usr have a good time. wish i could be out @ ja...       11    time\n...                                                  ...      ...     ...\n49995  just ad &quot;next video convert 2.6.0&quot; t...      156    quot\n49996  dead tire after being touristy. can not compla...       45     can\n49997               usr i wish you were play at my prom       198      at\n49998                           usr omgpop is the best!       194  is the\n49999  is in houston with the famili wish amia was he...       32    with\n\n[50000 rows x 3 columns]",
      "text/html": "<div>\n<style scoped>\n    .dataframe tbody tr th:only-of-type {\n        vertical-align: middle;\n    }\n\n    .dataframe tbody tr th {\n        vertical-align: top;\n    }\n\n    .dataframe thead th {\n        text-align: right;\n    }\n</style>\n<table border=\"1\" class=\"dataframe\">\n  <thead>\n    <tr style=\"text-align: right;\">\n      <th></th>\n      <th>text</th>\n      <th>cluster</th>\n      <th>label</th>\n    </tr>\n  </thead>\n  <tbody>\n    <tr>\n      <th>0</th>\n      <td>usr i do not play wow any more haha. just drink</td>\n      <td>182</td>\n      <td>do not</td>\n    </tr>\n    <tr>\n      <th>1</th>\n      <td>usr o hera.. hera, wherefor art though, hera? ...</td>\n      <td>27</td>\n      <td>usr</td>\n    </tr>\n    <tr>\n      <th>2</th>\n      <td>just gtting startd on this wha do ya do</td>\n      <td>143</td>\n      <td>do</td>\n    </tr>\n    <tr>\n      <th>3</th>\n      <td>the bass, the rock, the mic, the trebl</td>\n      <td>47</td>\n      <td>the</td>\n    </tr>\n    <tr>\n      <th>4</th>\n      <td>usr have a good time. wish i could be out @ ja...</td>\n      <td>11</td>\n      <td>time</td>\n    </tr>\n    <tr>\n      <th>...</th>\n      <td>...</td>\n      <td>...</td>\n      <td>...</td>\n    </tr>\n    <tr>\n      <th>49995</th>\n      <td>just ad &amp;quot;next video convert 2.6.0&amp;quot; t...</td>\n      <td>156</td>\n      <td>quot</td>\n    </tr>\n    <tr>\n      <th>49996</th>\n      <td>dead tire after being touristy. can not compla...</td>\n      <td>45</td>\n      <td>can</td>\n    </tr>\n    <tr>\n      <th>49997</th>\n      <td>usr i wish you were play at my prom</td>\n      <td>198</td>\n      <td>at</td>\n    </tr>\n    <tr>\n      <th>49998</th>\n      <td>usr omgpop is the best!</td>\n      <td>194</td>\n      <td>is the</td>\n    </tr>\n    <tr>\n      <th>49999</th>\n      <td>is in houston with the famili wish amia was he...</td>\n      <td>32</td>\n      <td>with</td>\n    </tr>\n  </tbody>\n</table>\n<p>50000 rows × 3 columns</p>\n</div>"
     },
     "execution_count": 11,
     "metadata": {},
     "output_type": "execute_result"
    }
   ],
   "source": [
    "result_labelled[['text', 'cluster', 'label']]"
   ],
   "metadata": {
    "collapsed": false,
    "pycharm": {
     "name": "#%%\n"
    }
   }
  },
  {
   "cell_type": "code",
   "execution_count": 12,
   "outputs": [
    {
     "data": {
      "text/plain": "                        count of text\nlabel                                \n                                 1313\nusr                              1157\ngo to                            1083\ndo not                           1034\nquot                              984\n...                               ...\nlove watch                         61\nmore this                          61\ngo make to                         59\nday get on the usr you             59\nhere url                           49\n\n[174 rows x 1 columns]",
      "text/html": "<div>\n<style scoped>\n    .dataframe tbody tr th:only-of-type {\n        vertical-align: middle;\n    }\n\n    .dataframe tbody tr th {\n        vertical-align: top;\n    }\n\n    .dataframe thead th {\n        text-align: right;\n    }\n</style>\n<table border=\"1\" class=\"dataframe\">\n  <thead>\n    <tr style=\"text-align: right;\">\n      <th></th>\n      <th>count of text</th>\n    </tr>\n    <tr>\n      <th>label</th>\n      <th></th>\n    </tr>\n  </thead>\n  <tbody>\n    <tr>\n      <th></th>\n      <td>1313</td>\n    </tr>\n    <tr>\n      <th>usr</th>\n      <td>1157</td>\n    </tr>\n    <tr>\n      <th>go to</th>\n      <td>1083</td>\n    </tr>\n    <tr>\n      <th>do not</th>\n      <td>1034</td>\n    </tr>\n    <tr>\n      <th>quot</th>\n      <td>984</td>\n    </tr>\n    <tr>\n      <th>...</th>\n      <td>...</td>\n    </tr>\n    <tr>\n      <th>love watch</th>\n      <td>61</td>\n    </tr>\n    <tr>\n      <th>more this</th>\n      <td>61</td>\n    </tr>\n    <tr>\n      <th>go make to</th>\n      <td>59</td>\n    </tr>\n    <tr>\n      <th>day get on the usr you</th>\n      <td>59</td>\n    </tr>\n    <tr>\n      <th>here url</th>\n      <td>49</td>\n    </tr>\n  </tbody>\n</table>\n<p>174 rows × 1 columns</p>\n</div>"
     },
     "execution_count": 12,
     "metadata": {},
     "output_type": "execute_result"
    }
   ],
   "source": [
    "pd.pivot_table(result_labelled, index=['label'], values=['text'], aggfunc='count').sort_values(['text'], ascending=False).rename(columns={'text':'count of text'})"
   ],
   "metadata": {
    "collapsed": false,
    "pycharm": {
     "name": "#%%\n"
    }
   }
  },
  {
   "cell_type": "code",
   "execution_count": 13,
   "outputs": [
    {
     "data": {
      "text/plain": "0.0478720003690822"
     },
     "execution_count": 13,
     "metadata": {},
     "output_type": "execute_result"
    }
   ],
   "source": [
    "sil_score = silhouette_score(X, kmeans.labels_)\n",
    "sil_score"
   ],
   "metadata": {
    "collapsed": false,
    "pycharm": {
     "name": "#%%\n"
    }
   }
  },
  {
   "cell_type": "code",
   "execution_count": 17,
   "outputs": [
    {
     "data": {
      "text/plain": "3.0658821749531957"
     },
     "execution_count": 17,
     "metadata": {},
     "output_type": "execute_result"
    }
   ],
   "source": [
    "from sklearn.metrics import davies_bouldin_score\n",
    "davies_bouldin_score(X.toarray(), kmeans.labels_)"
   ],
   "metadata": {
    "collapsed": false,
    "pycharm": {
     "name": "#%%\n"
    }
   }
  }
 ],
 "metadata": {
  "kernelspec": {
   "display_name": "Python 3 (ipykernel)",
   "language": "python",
   "name": "python3"
  },
  "language_info": {
   "codemirror_mode": {
    "name": "ipython",
    "version": 3
   },
   "file_extension": ".py",
   "mimetype": "text/x-python",
   "name": "python",
   "nbconvert_exporter": "python",
   "pygments_lexer": "ipython3",
   "version": "3.7.12"
  }
 },
 "nbformat": 4,
 "nbformat_minor": 1
}