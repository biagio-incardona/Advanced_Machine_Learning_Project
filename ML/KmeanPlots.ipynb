{
 "cells": [
  {
   "cell_type": "code",
   "execution_count": 8,
   "metadata": {
    "pycharm": {
     "name": "#%%\n"
    }
   },
   "outputs": [
    {
     "name": "stdout",
     "output_type": "stream",
     "text": [
      "loading dataset...\n",
      "...dataset loaded\n",
      "starting preprocessing...\n",
      "...preprocessing completed\n",
      "starting vectorizing words...\n",
      "...words vectorized\n"
     ]
    },
    {
     "data": {
      "text/plain": "<Figure size 432x288 with 1 Axes>",
      "image/png": "[encoded data removed]"
     },
     "metadata": {
      "needs_background": "light"
     },
     "output_type": "display_data"
    }
   ],
   "source": [
    "import  numpy as np\n",
    "from sklearn.cluster import KMeans\n",
    "from KmeanClustering import Kmeanclustering\n",
    "import matplotlib.pyplot as plt\n",
    "import pandas as pd\n",
    "from sklearn.feature_extraction.text import TfidfVectorizer\n",
    "\n",
    "sse={}\n",
    "X,df = Kmeanclustering.main()\n",
    "\n",
    "for k in np.arange(100,900,100):\n",
    "    kmeans = KMeans(n_clusters=k, max_iter=600).fit(X)\n",
    "    sse[k] = kmeans.inertia_\n",
    "plt.plot(list(sse.keys()),list(sse.values()), 'bx-')\n",
    "plt.xlabel('Values for K')\n",
    "plt.ylabel('SSE')\n",
    "plt.show();"
   ]
  },
  {
   "cell_type": "code",
   "execution_count": 9,
   "outputs": [
    {
     "name": "stderr",
     "output_type": "stream",
     "text": [
      "/home/annabelle/Documents/Advanced_Machine_Learning_Project/venv/lib/python3.8/site-packages/sklearn/utils/deprecation.py:87: FutureWarning: Function get_feature_names is deprecated; get_feature_names is deprecated in 1.0 and will be removed in 1.2. Please use get_feature_names_out instead.\n",
      "  warnings.warn(msg, category=FutureWarning)\n"
     ]
    }
   ],
   "source": [
    "vectoriser = TfidfVectorizer(ngram_range=(1,2), max_features=100)\n",
    "vectoriser.fit_transform(df)\n",
    "\n",
    "kmeans = KMeans(n_clusters=200)\n",
    "kmeans.fit(X)\n",
    "result = pd.concat([df,pd.DataFrame(X.toarray(),columns=vectoriser.get_feature_names())],axis=1)\n",
    "result['cluster'] = kmeans.predict(X)"
   ],
   "metadata": {
    "collapsed": false,
    "pycharm": {
     "name": "#%%\n"
    }
   }
  },
  {
   "cell_type": "code",
   "execution_count": 16,
   "outputs": [
    {
     "data": {
      "text/plain": "                                                    text  cluster\n0                      go to watch some more home video       122\n1      tire from the shoot even though it was not eve...       60\n2      to littl ladi gard party..so happi she's home ...       42\n3                         i definit got it bad today ..       147\n4      i had an awesom weekend! i love my peep from s...      107\n...                                                  ...      ...\n49995  usr i am make this a bounc friday head out of ...      188\n49996            happi mother day to all mom out there.        85\n49997                    usr it was gonna be hilarious!        10\n49998                      boyfriend just called..yay!!        61\n49999  hard any tweet from my girl today.. i feel all...      107\n\n[50000 rows x 2 columns]",
      "text/html": "<div>\n<style scoped>\n    .dataframe tbody tr th:only-of-type {\n        vertical-align: middle;\n    }\n\n    .dataframe tbody tr th {\n        vertical-align: top;\n    }\n\n    .dataframe thead th {\n        text-align: right;\n    }\n</style>\n<table border=\"1\" class=\"dataframe\">\n  <thead>\n    <tr style=\"text-align: right;\">\n      <th></th>\n      <th>text</th>\n      <th>cluster</th>\n    </tr>\n  </thead>\n  <tbody>\n    <tr>\n      <th>0</th>\n      <td>go to watch some more home video</td>\n      <td>122</td>\n    </tr>\n    <tr>\n      <th>1</th>\n      <td>tire from the shoot even though it was not eve...</td>\n      <td>60</td>\n    </tr>\n    <tr>\n      <th>2</th>\n      <td>to littl ladi gard party..so happi she's home ...</td>\n      <td>42</td>\n    </tr>\n    <tr>\n      <th>3</th>\n      <td>i definit got it bad today ..</td>\n      <td>147</td>\n    </tr>\n    <tr>\n      <th>4</th>\n      <td>i had an awesom weekend! i love my peep from s...</td>\n      <td>107</td>\n    </tr>\n    <tr>\n      <th>...</th>\n      <td>...</td>\n      <td>...</td>\n    </tr>\n    <tr>\n      <th>49995</th>\n      <td>usr i am make this a bounc friday head out of ...</td>\n      <td>188</td>\n    </tr>\n    <tr>\n      <th>49996</th>\n      <td>happi mother day to all mom out there.</td>\n      <td>85</td>\n    </tr>\n    <tr>\n      <th>49997</th>\n      <td>usr it was gonna be hilarious!</td>\n      <td>10</td>\n    </tr>\n    <tr>\n      <th>49998</th>\n      <td>boyfriend just called..yay!!</td>\n      <td>61</td>\n    </tr>\n    <tr>\n      <th>49999</th>\n      <td>hard any tweet from my girl today.. i feel all...</td>\n      <td>107</td>\n    </tr>\n  </tbody>\n</table>\n<p>50000 rows × 2 columns</p>\n</div>"
     },
     "execution_count": 16,
     "metadata": {},
     "output_type": "execute_result"
    }
   ],
   "source": [
    "result[['text', 'cluster']]"
   ],
   "metadata": {
    "collapsed": false,
    "pycharm": {
     "name": "#%%\n"
    }
   }
  },
  {
   "cell_type": "code",
   "execution_count": 17,
   "outputs": [],
   "source": [
    "clusters = result['cluster'].unique()\n",
    "labels = []\n",
    "for i in range(len(clusters)):\n",
    "    subset = result[result['cluster'] == clusters[i]]\n",
    "    words = ' '.join([x for x in np.where(subset.all()!=0,subset.columns,None) if x and x!='Name' and x!='cluster' and len(x.split()) == 1])\n",
    "    labels.append(words)\n",
    "labels_table = pd.DataFrame(zip(clusters,labels),columns=['cluster','label'])\n",
    "result_labelled = pd.merge(result,labels_table,on='cluster',how='left')"
   ],
   "metadata": {
    "collapsed": false,
    "pycharm": {
     "name": "#%%\n"
    }
   }
  },
  {
   "cell_type": "code",
   "execution_count": 19,
   "outputs": [
    {
     "data": {
      "text/plain": "                                                    text  cluster  \\\n0                      go to watch some more home video       122   \n1      tire from the shoot even though it was not eve...       60   \n2      to littl ladi gard party..so happi she's home ...       42   \n3                         i definit got it bad today ..       147   \n4      i had an awesom weekend! i love my peep from s...      107   \n...                                                  ...      ...   \n49995  usr i am make this a bounc friday head out of ...      188   \n49996            happi mother day to all mom out there.        85   \n49997                    usr it was gonna be hilarious!        10   \n49998                      boyfriend just called..yay!!        61   \n49999  hard any tweet from my girl today.. i feel all...      107   \n\n              label  \n0         text home  \n1          text off  \n2         text home  \n3          text got  \n4      text from my  \n...             ...  \n49995   text of out  \n49996    text there  \n49997   text it was  \n49998     text just  \n49999  text from my  \n\n[50000 rows x 3 columns]",
      "text/html": "<div>\n<style scoped>\n    .dataframe tbody tr th:only-of-type {\n        vertical-align: middle;\n    }\n\n    .dataframe tbody tr th {\n        vertical-align: top;\n    }\n\n    .dataframe thead th {\n        text-align: right;\n    }\n</style>\n<table border=\"1\" class=\"dataframe\">\n  <thead>\n    <tr style=\"text-align: right;\">\n      <th></th>\n      <th>text</th>\n      <th>cluster</th>\n      <th>label</th>\n    </tr>\n  </thead>\n  <tbody>\n    <tr>\n      <th>0</th>\n      <td>go to watch some more home video</td>\n      <td>122</td>\n      <td>text home</td>\n    </tr>\n    <tr>\n      <th>1</th>\n      <td>tire from the shoot even though it was not eve...</td>\n      <td>60</td>\n      <td>text off</td>\n    </tr>\n    <tr>\n      <th>2</th>\n      <td>to littl ladi gard party..so happi she's home ...</td>\n      <td>42</td>\n      <td>text home</td>\n    </tr>\n    <tr>\n      <th>3</th>\n      <td>i definit got it bad today ..</td>\n      <td>147</td>\n      <td>text got</td>\n    </tr>\n    <tr>\n      <th>4</th>\n      <td>i had an awesom weekend! i love my peep from s...</td>\n      <td>107</td>\n      <td>text from my</td>\n    </tr>\n    <tr>\n      <th>...</th>\n      <td>...</td>\n      <td>...</td>\n      <td>...</td>\n    </tr>\n    <tr>\n      <th>49995</th>\n      <td>usr i am make this a bounc friday head out of ...</td>\n      <td>188</td>\n      <td>text of out</td>\n    </tr>\n    <tr>\n      <th>49996</th>\n      <td>happi mother day to all mom out there.</td>\n      <td>85</td>\n      <td>text there</td>\n    </tr>\n    <tr>\n      <th>49997</th>\n      <td>usr it was gonna be hilarious!</td>\n      <td>10</td>\n      <td>text it was</td>\n    </tr>\n    <tr>\n      <th>49998</th>\n      <td>boyfriend just called..yay!!</td>\n      <td>61</td>\n      <td>text just</td>\n    </tr>\n    <tr>\n      <th>49999</th>\n      <td>hard any tweet from my girl today.. i feel all...</td>\n      <td>107</td>\n      <td>text from my</td>\n    </tr>\n  </tbody>\n</table>\n<p>50000 rows × 3 columns</p>\n</div>"
     },
     "execution_count": 19,
     "metadata": {},
     "output_type": "execute_result"
    }
   ],
   "source": [
    "result_labelled[['text', 'cluster', 'label']]"
   ],
   "metadata": {
    "collapsed": false,
    "pycharm": {
     "name": "#%%\n"
    }
   }
  },
  {
   "cell_type": "code",
   "execution_count": null,
   "outputs": [],
   "source": [],
   "metadata": {
    "collapsed": false,
    "pycharm": {
     "name": "#%%\n"
    }
   }
  }
 ],
 "metadata": {
  "kernelspec": {
   "display_name": "Python 3 (ipykernel)",
   "language": "python",
   "name": "python3"
  },
  "language_info": {
   "codemirror_mode": {
    "name": "ipython",
    "version": 3
   },
   "file_extension": ".py",
   "mimetype": "text/x-python",
   "name": "python",
   "nbconvert_exporter": "python",
   "pygments_lexer": "ipython3",
   "version": "3.7.12"
  }
 },
 "nbformat": 4,
 "nbformat_minor": 1
}